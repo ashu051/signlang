{
 "cells": [
  {
   "cell_type": "markdown",
   "metadata": {},
   "source": [
    "# 1. Import Dependencies"
   ]
  },
  {
   "cell_type": "code",
   "execution_count": 34,
   "metadata": {},
   "outputs": [
    {
     "name": "stdout",
     "output_type": "stream",
     "text": [
      "Requirement already satisfied: opencv-python in d:\\object-detection2\\tfodcourse\\tfod\\lib\\site-packages (4.6.0.66)\n",
      "Requirement already satisfied: numpy>=1.19.3 in d:\\object-detection2\\tfodcourse\\tfod\\lib\\site-packages (from opencv-python) (1.23.0)\n"
     ]
    }
   ],
   "source": [
    "!pip install opencv-python"
   ]
  },
  {
   "cell_type": "code",
   "execution_count": 35,
   "metadata": {},
   "outputs": [],
   "source": [
    "# Import opencv\n",
    "import cv2 \n",
    "\n",
    "# Import uuid\n",
    "import uuid\n",
    "\n",
    "# Import Operating System\n",
    "import os\n",
    "\n",
    "# Import time\n",
    "import time"
   ]
  },
  {
   "cell_type": "markdown",
   "metadata": {},
   "source": [
    "# 2. Define Images to Collect"
   ]
  },
  {
   "cell_type": "code",
   "execution_count": 15,
   "metadata": {},
   "outputs": [],
   "source": [
    "labels = ['thumbsup', 'thumbsdown', 'thankyou', 'livelong']\n",
    "number_imgs = 5"
   ]
  },
  {
   "cell_type": "markdown",
   "metadata": {},
   "source": [
    "# 3. Setup Folders "
   ]
  },
  {
   "cell_type": "code",
   "execution_count": 8,
   "metadata": {},
   "outputs": [
    {
     "name": "stdout",
     "output_type": "stream",
     "text": [
      "Tensorflow\\workspace\\images\\collectedimages\n"
     ]
    }
   ],
   "source": [
    "IMAGES_PATH = os.path.join('Tensorflow', 'workspace', 'images', 'collectedimages')\n",
    "print(IMAGES_PATH)"
   ]
  },
  {
   "cell_type": "code",
   "execution_count": 9,
   "metadata": {},
   "outputs": [],
   "source": [
    "if not os.path.exists(IMAGES_PATH):\n",
    "    if os.name == 'posix':\n",
    "        !mkdir -p {IMAGES_PATH}\n",
    "    if os.name == 'nt':\n",
    "         !mkdir {IMAGES_PATH}\n",
    "for label in labels:\n",
    "    path = os.path.join(IMAGES_PATH, label)\n",
    "    if not os.path.exists(path):\n",
    "        !mkdir {path}"
   ]
  },
  {
   "cell_type": "markdown",
   "metadata": {},
   "source": [
    "# 4. Capture Images"
   ]
  },
  {
   "cell_type": "code",
   "execution_count": 10,
   "metadata": {},
   "outputs": [
    {
     "name": "stdout",
     "output_type": "stream",
     "text": [
      "Collecting images for thumbsup\n",
      "Collecting image 0\n",
      "Collecting image 1\n",
      "Collecting image 2\n",
      "Collecting image 3\n",
      "Collecting image 4\n",
      "Collecting images for thumbsdown\n",
      "Collecting image 0\n",
      "Collecting image 1\n",
      "Collecting image 2\n",
      "Collecting image 3\n",
      "Collecting image 4\n",
      "Collecting images for thankyou\n",
      "Collecting image 0\n",
      "Collecting image 1\n",
      "Collecting image 2\n",
      "Collecting image 3\n",
      "Collecting image 4\n",
      "Collecting images for livelong\n",
      "Collecting image 0\n",
      "Collecting image 1\n",
      "Collecting image 2\n",
      "Collecting image 3\n",
      "Collecting image 4\n"
     ]
    }
   ],
   "source": [
    "for label in labels:\n",
    "    cap = cv2.VideoCapture(0)\n",
    "    print('Collecting images for {}'.format(label))\n",
    "    time.sleep(5)\n",
    "    for imgnum in range(number_imgs):\n",
    "        print('Collecting image {}'.format(imgnum))\n",
    "        ret, frame = cap.read()\n",
    "        imgname = os.path.join(IMAGES_PATH,label,label+'.'+'{}.jpg'.format(str(uuid.uuid1())))\n",
    "        cv2.imwrite(imgname, frame)\n",
    "        cv2.imshow('frame', frame)\n",
    "        time.sleep(2)\n",
    "\n",
    "        if cv2.waitKey(1) & 0xFF == ord('q'):\n",
    "            break\n",
    "cap.release()\n",
    "cv2.destroyAllWindows()"
   ]
  },
  {
   "cell_type": "markdown",
   "metadata": {},
   "source": [
    "# 5. Image Labelling"
   ]
  },
  {
   "cell_type": "code",
   "execution_count": 11,
   "metadata": {},
   "outputs": [
    {
     "name": "stdout",
     "output_type": "stream",
     "text": [
      "Collecting pyqt5\n",
      "  Using cached PyQt5-5.15.7-cp37-abi3-win_amd64.whl (6.8 MB)\n",
      "Collecting lxml\n",
      "  Downloading lxml-4.9.1-cp39-cp39-win_amd64.whl (3.6 MB)\n",
      "     ---------------------------------------- 3.6/3.6 MB 595.0 kB/s eta 0:00:00\n",
      "Collecting PyQt5-sip<13,>=12.11\n",
      "  Downloading PyQt5_sip-12.11.0-cp39-cp39-win_amd64.whl (78 kB)\n",
      "     -------------------------------------- 78.3/78.3 kB 624.5 kB/s eta 0:00:00\n",
      "Collecting PyQt5-Qt5>=5.15.0\n",
      "  Using cached PyQt5_Qt5-5.15.2-py3-none-win_amd64.whl (50.1 MB)\n",
      "Installing collected packages: PyQt5-Qt5, PyQt5-sip, lxml, pyqt5\n",
      "Successfully installed PyQt5-Qt5-5.15.2 PyQt5-sip-12.11.0 lxml-4.9.1 pyqt5-5.15.7\n"
     ]
    }
   ],
   "source": [
    "!pip install --upgrade pyqt5 lxml"
   ]
  },
  {
   "cell_type": "code",
   "execution_count": 36,
   "metadata": {},
   "outputs": [],
   "source": [
    "LABELIMG_PATH = os.path.join('Tensorflow', 'labelimg')"
   ]
  },
  {
   "cell_type": "code",
   "execution_count": 37,
   "metadata": {},
   "outputs": [
    {
     "name": "stderr",
     "output_type": "stream",
     "text": [
      "Cloning into 'Tensorflow\\labelimg'...\n"
     ]
    }
   ],
   "source": [
    "if not os.path.exists(LABELIMG_PATH):\n",
    "    !mkdir {LABELIMG_PATH}\n",
    "    !git clone https://github.com/tzutalin/labelImg {LABELIMG_PATH}"
   ]
  },
  {
   "cell_type": "code",
   "execution_count": 38,
   "metadata": {},
   "outputs": [],
   "source": [
    "if os.name == 'posix':\n",
    "    !make qt5py3\n",
    "if os.name =='nt':\n",
    "    !cd {LABELIMG_PATH} && pyrcc5 -o libs/resources.py resources.qrc"
   ]
  },
  {
   "cell_type": "code",
   "execution_count": 39,
   "metadata": {},
   "outputs": [
    {
     "name": "stdout",
     "output_type": "stream",
     "text": [
      "Image:D:\\object-detection2\\TFODCourse\\Tensorflow\\workspace\\images\\collectedimages\\livelong\\livelong.04c9b490-fea1-11ec-86cd-3c9c0f1cc996.jpg -> Annotation:D:/object-detection2/TFODCourse/Tensorflow/workspace/images/collectedimages/livelong\\livelong.04c9b490-fea1-11ec-86cd-3c9c0f1cc996.xml\n",
      "Image:D:\\object-detection2\\TFODCourse\\Tensorflow\\workspace\\images\\collectedimages\\livelong\\livelong.086c975e-fea1-11ec-8d75-3c9c0f1cc996.jpg -> Annotation:D:/object-detection2/TFODCourse/Tensorflow/workspace/images/collectedimages/livelong\\livelong.086c975e-fea1-11ec-8d75-3c9c0f1cc996.xml\n",
      "Cancel creation.\n",
      "Image:D:\\object-detection2\\TFODCourse\\Tensorflow\\workspace\\images\\collectedimages\\livelong\\livelong.0600ac6a-fea1-11ec-9897-3c9c0f1cc996.jpg -> Annotation:D:/object-detection2/TFODCourse/Tensorflow/workspace/images/collectedimages/livelong\\livelong.0600ac6a-fea1-11ec-9897-3c9c0f1cc996.xml\n",
      "Image:D:\\object-detection2\\TFODCourse\\Tensorflow\\workspace\\images\\collectedimages\\livelong\\livelong.039157ee-fea1-11ec-b86e-3c9c0f1cc996.jpg -> Annotation:D:/object-detection2/TFODCourse/Tensorflow/workspace/images/collectedimages/livelong\\livelong.039157ee-fea1-11ec-b86e-3c9c0f1cc996.xml\n",
      "Cancel creation.\n",
      "Image:D:\\object-detection2\\TFODCourse\\Tensorflow\\workspace\\images\\collectedimages\\livelong\\livelong.07379988-fea1-11ec-950b-3c9c0f1cc996.jpg -> Annotation:D:/object-detection2/TFODCourse/Tensorflow/workspace/images/collectedimages/livelong\\livelong.07379988-fea1-11ec-950b-3c9c0f1cc996.xml\n",
      "Image:D:\\object-detection2\\TFODCourse\\Tensorflow\\workspace\\images\\collectedimages\\thankyou\\thankyou.f9941607-fea0-11ec-a1ab-3c9c0f1cc996.jpg -> Annotation:D:/object-detection2/TFODCourse/Tensorflow/workspace/images/collectedimages/thankyou\\thankyou.f9941607-fea0-11ec-a1ab-3c9c0f1cc996.xml\n",
      "Cancel creation.\n",
      "Image:D:\\object-detection2\\TFODCourse\\Tensorflow\\workspace\\images\\collectedimages\\thankyou\\thankyou.facd43d7-fea0-11ec-aae4-3c9c0f1cc996.jpg -> Annotation:D:/object-detection2/TFODCourse/Tensorflow/workspace/images/collectedimages/thankyou\\thankyou.facd43d7-fea0-11ec-aae4-3c9c0f1cc996.xml\n",
      "Image:D:\\object-detection2\\TFODCourse\\Tensorflow\\workspace\\images\\collectedimages\\thankyou\\thankyou.fc0449ec-fea0-11ec-a7b3-3c9c0f1cc996.jpg -> Annotation:D:/object-detection2/TFODCourse/Tensorflow/workspace/images/collectedimages/thankyou\\thankyou.fc0449ec-fea0-11ec-a7b3-3c9c0f1cc996.xml\n",
      "Image:D:\\object-detection2\\TFODCourse\\Tensorflow\\workspace\\images\\collectedimages\\thankyou\\thankyou.fd3a63bb-fea0-11ec-a6f5-3c9c0f1cc996.jpg -> Annotation:D:/object-detection2/TFODCourse/Tensorflow/workspace/images/collectedimages/thankyou\\thankyou.fd3a63bb-fea0-11ec-a6f5-3c9c0f1cc996.xml\n",
      "Image:D:\\object-detection2\\TFODCourse\\Tensorflow\\workspace\\images\\collectedimages\\thankyou\\thankyou.fe6fc2ac-fea0-11ec-9314-3c9c0f1cc996.jpg -> Annotation:D:/object-detection2/TFODCourse/Tensorflow/workspace/images/collectedimages/thankyou\\thankyou.fe6fc2ac-fea0-11ec-9314-3c9c0f1cc996.xml\n",
      "Image:D:\\object-detection2\\TFODCourse\\Tensorflow\\workspace\\images\\collectedimages\\thumbsdown\\thumbsdown.ef92522c-fea0-11ec-9c30-3c9c0f1cc996.jpg -> Annotation:D:/object-detection2/TFODCourse/Tensorflow/workspace/images/collectedimages/thumbsdown\\thumbsdown.ef92522c-fea0-11ec-9c30-3c9c0f1cc996.xml\n",
      "Image:D:\\object-detection2\\TFODCourse\\Tensorflow\\workspace\\images\\collectedimages\\thumbsdown\\thumbsdown.f0cb9f1d-fea0-11ec-b1cb-3c9c0f1cc996.jpg -> Annotation:D:/object-detection2/TFODCourse/Tensorflow/workspace/images/collectedimages/thumbsdown\\thumbsdown.f0cb9f1d-fea0-11ec-b1cb-3c9c0f1cc996.xml\n",
      "Cancel creation.\n",
      "Image:D:\\object-detection2\\TFODCourse\\Tensorflow\\workspace\\images\\collectedimages\\thumbsdown\\thumbsdown.f339bbc8-fea0-11ec-8619-3c9c0f1cc996.jpg -> Annotation:D:/object-detection2/TFODCourse/Tensorflow/workspace/images/collectedimages/thumbsdown\\thumbsdown.f339bbc8-fea0-11ec-8619-3c9c0f1cc996.xml\n",
      "Image:D:\\object-detection2\\TFODCourse\\Tensorflow\\workspace\\images\\collectedimages\\thumbsdown\\thumbsdown.f471dc53-fea0-11ec-b356-3c9c0f1cc996.jpg -> Annotation:D:/object-detection2/TFODCourse/Tensorflow/workspace/images/collectedimages/thumbsdown\\thumbsdown.f471dc53-fea0-11ec-b356-3c9c0f1cc996.xml\n",
      "Image:D:\\object-detection2\\TFODCourse\\Tensorflow\\workspace\\images\\collectedimages\\thumbsdown\\thumbsdown.f2031836-fea0-11ec-917f-3c9c0f1cc996.jpg -> Annotation:D:/object-detection2/TFODCourse/Tensorflow/workspace/images/collectedimages/thumbsdown\\thumbsdown.f2031836-fea0-11ec-917f-3c9c0f1cc996.xml\n",
      "Image:D:\\object-detection2\\TFODCourse\\Tensorflow\\workspace\\images\\collectedimages\\thumbsup\\thumbsup.e6c1db86-fea0-11ec-89ce-3c9c0f1cc996.jpg -> Annotation:D:/object-detection2/TFODCourse/Tensorflow/workspace/images/collectedimages/thumbsup\\thumbsup.e6c1db86-fea0-11ec-89ce-3c9c0f1cc996.xml\n",
      "Image:D:\\object-detection2\\TFODCourse\\Tensorflow\\workspace\\images\\collectedimages\\thumbsup\\thumbsup.e7f86358-fea0-11ec-9795-3c9c0f1cc996.jpg -> Annotation:D:/object-detection2/TFODCourse/Tensorflow/workspace/images/collectedimages/thumbsup\\thumbsup.e7f86358-fea0-11ec-9795-3c9c0f1cc996.xml\n",
      "Cancel creation.\n",
      "Cancel creation.\n",
      "Image:D:\\object-detection2\\TFODCourse\\Tensorflow\\workspace\\images\\collectedimages\\thumbsup\\thumbsup.e92e9c7f-fea0-11ec-aca6-3c9c0f1cc996.jpg -> Annotation:D:/object-detection2/TFODCourse/Tensorflow/workspace/images/collectedimages/thumbsup\\thumbsup.e92e9c7f-fea0-11ec-aca6-3c9c0f1cc996.xml\n",
      "Image:D:\\object-detection2\\TFODCourse\\Tensorflow\\workspace\\images\\collectedimages\\thumbsup\\thumbsup.e5898d38-fea0-11ec-a870-3c9c0f1cc996.jpg -> Annotation:D:/object-detection2/TFODCourse/Tensorflow/workspace/images/collectedimages/thumbsup\\thumbsup.e5898d38-fea0-11ec-a870-3c9c0f1cc996.xml\n",
      "Image:D:\\object-detection2\\TFODCourse\\Tensorflow\\workspace\\images\\collectedimages\\thumbsup\\thumbsup.ea62bd7b-fea0-11ec-ae6e-3c9c0f1cc996.jpg -> Annotation:D:/object-detection2/TFODCourse/Tensorflow/workspace/images/collectedimages/thumbsup\\thumbsup.ea62bd7b-fea0-11ec-ae6e-3c9c0f1cc996.xml\n"
     ]
    }
   ],
   "source": [
    "!cd {LABELIMG_PATH} && python labelImg.py"
   ]
  },
  {
   "cell_type": "markdown",
   "metadata": {},
   "source": [
    "# 6. Move them into a Training and Testing Partition"
   ]
  },
  {
   "cell_type": "markdown",
   "metadata": {},
   "source": [
    "# OPTIONAL - 7. Compress them for Colab Training"
   ]
  },
  {
   "cell_type": "code",
   "execution_count": 20,
   "metadata": {},
   "outputs": [],
   "source": [
    "TRAIN_PATH = os.path.join('Tensorflow', 'workspace', 'images', 'train')\n",
    "TEST_PATH = os.path.join('Tensorflow', 'workspace', 'images', 'test')\n",
    "ARCHIVE_PATH = os.path.join('Tensorflow', 'workspace', 'images', 'archive.tar.gz')"
   ]
  },
  {
   "cell_type": "code",
   "execution_count": 21,
   "metadata": {},
   "outputs": [],
   "source": [
    "!tar -czf {ARCHIVE_PATH} {TRAIN_PATH} {TEST_PATH}"
   ]
  },
  {
   "cell_type": "code",
   "execution_count": null,
   "metadata": {},
   "outputs": [],
   "source": []
  }
 ],
 "metadata": {
  "kernelspec": {
   "display_name": "tfod",
   "language": "python",
   "name": "tfod"
  },
  "language_info": {
   "codemirror_mode": {
    "name": "ipython",
    "version": 3
   },
   "file_extension": ".py",
   "mimetype": "text/x-python",
   "name": "python",
   "nbconvert_exporter": "python",
   "pygments_lexer": "ipython3",
   "version": "3.9.12"
  }
 },
 "nbformat": 4,
 "nbformat_minor": 2
}
